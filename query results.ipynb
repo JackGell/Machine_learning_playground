{
 "cells": [
  {
   "cell_type": "code",
   "execution_count": 8,
   "metadata": {
    "collapsed": true
   },
   "outputs": [],
   "source": [
    "import pandas as pd\n",
    "import os\n",
    "import json"
   ]
  },
  {
   "cell_type": "code",
   "execution_count": 11,
   "outputs": [],
   "source": [
    "import pandas as pd\n",
    "import os\n",
    "import json\n",
    "\n",
    "\n",
    "cols = ['btc','accuracy_x', 'buy_acc', 'sell_acc', 'hold_acc', 'feature', 'period',\n",
    "        'n_layers', 'output', 'output_nodes',\n",
    "       'batch_size', 'optimizer', 'normaliser',\n",
    "        'TP', 'TN', 'FP', 'FN', 'precision', 'NPV', 'sensitivity',\n",
    "       'specificity', 'accuracy_y', 'file_name']\n",
    "\n",
    "def create_data_frame_from_folders(folder_path):\n",
    "    data_list = []\n",
    "    for filename in os.listdir(folder_path):\n",
    "        if filename.endswith('.json'):\n",
    "            file_path = os.path.join(folder_path, filename)\n",
    "            with open(file_path, 'r') as f:\n",
    "                data = json.load(f)\n",
    "                try:\n",
    "                    data['file_name'] = filename\n",
    "                    data_list.append(data)\n",
    "                except:\n",
    "                    pass\n",
    "    return  pd.DataFrame(data_list)\n",
    "\n",
    "trial_df = create_data_frame_from_folders('generated_data/trials')\n",
    "confusion_df = create_data_frame_from_folders('generated_data/confusion_matrix')\n",
    "metric_df = create_data_frame_from_folders('generated_data/metrics')\n",
    "trial_df = trial_df.merge(confusion_df, on='file_name', how='outer').merge(metric_df, on='file_name', how='outer')\n",
    "\n",
    "trial_df = trial_df[cols]\n",
    "\n",
    "# Define the condition to create the mask\n",
    "condition = trial_df['btc'] != 1\n",
    "# Create the mask\n",
    "mask = condition\n",
    "# Use the mask to index into the dataframe\n",
    "converged = trial_df[mask]\n",
    "\n",
    "# Define the condition to create the mask\n",
    "condition = trial_df['btc'] == 1\n",
    "# Create the mask\n",
    "mask = condition\n",
    "# Use the mask to index into the dataframe\n",
    "not_converged = trial_df[mask]"
   ],
   "metadata": {
    "collapsed": false
   }
  },
  {
   "cell_type": "code",
   "execution_count": 10,
   "outputs": [
    {
     "data": {
      "text/plain": "        btc  accuracy   buy_acc  sell_acc  hold_acc feature  period  \\\n0  0.791989  0.711297  0.966605  0.973869  0.193416    None      64   \n1  1.010210  0.853882  0.969557  0.947739  0.644351    None      52   \n2  0.948894  0.805958  0.894204  0.983920  0.539749    None      37   \n3  1.013342  0.800300  0.958067  0.940704  0.502128    None      10   \n4  1.045582  0.879531  0.966820  0.968844  0.702929    None      47   \n\n   percentage  n_layers   output  ...  l1_5 dropout_5  activation_6  \\\n0    0.850048         2  softmax  ...   NaN       NaN           NaN   \n1    0.687700         5  softmax  ...   0.0       0.0           NaN   \n2    0.153313         7  softmax  ...   0.0       0.0       sigmoid   \n3    0.243757         5  softmax  ...   0.0       0.0           NaN   \n4    0.432839         6  softmax  ...   0.0       0.0       sigmoid   \n\n   neurons_6 l1_6 dropout_6 activation_7  neurons_7  l1_7  dropout_7  \n0        NaN  NaN       NaN          NaN        NaN   NaN        NaN  \n1        NaN  NaN       NaN          NaN        NaN   NaN        NaN  \n2      500.0  0.0       0.0      sigmoid      500.0   0.0        0.0  \n3        NaN  NaN       NaN          NaN        NaN   NaN        NaN  \n4      500.0  0.0       0.0          NaN        NaN   NaN        NaN  \n\n[5 rows x 48 columns]",
      "text/html": "<div>\n<style scoped>\n    .dataframe tbody tr th:only-of-type {\n        vertical-align: middle;\n    }\n\n    .dataframe tbody tr th {\n        vertical-align: top;\n    }\n\n    .dataframe thead th {\n        text-align: right;\n    }\n</style>\n<table border=\"1\" class=\"dataframe\">\n  <thead>\n    <tr style=\"text-align: right;\">\n      <th></th>\n      <th>btc</th>\n      <th>accuracy</th>\n      <th>buy_acc</th>\n      <th>sell_acc</th>\n      <th>hold_acc</th>\n      <th>feature</th>\n      <th>period</th>\n      <th>percentage</th>\n      <th>n_layers</th>\n      <th>output</th>\n      <th>...</th>\n      <th>l1_5</th>\n      <th>dropout_5</th>\n      <th>activation_6</th>\n      <th>neurons_6</th>\n      <th>l1_6</th>\n      <th>dropout_6</th>\n      <th>activation_7</th>\n      <th>neurons_7</th>\n      <th>l1_7</th>\n      <th>dropout_7</th>\n    </tr>\n  </thead>\n  <tbody>\n    <tr>\n      <th>0</th>\n      <td>0.791989</td>\n      <td>0.711297</td>\n      <td>0.966605</td>\n      <td>0.973869</td>\n      <td>0.193416</td>\n      <td>None</td>\n      <td>64</td>\n      <td>0.850048</td>\n      <td>2</td>\n      <td>softmax</td>\n      <td>...</td>\n      <td>NaN</td>\n      <td>NaN</td>\n      <td>NaN</td>\n      <td>NaN</td>\n      <td>NaN</td>\n      <td>NaN</td>\n      <td>NaN</td>\n      <td>NaN</td>\n      <td>NaN</td>\n      <td>NaN</td>\n    </tr>\n    <tr>\n      <th>1</th>\n      <td>1.010210</td>\n      <td>0.853882</td>\n      <td>0.969557</td>\n      <td>0.947739</td>\n      <td>0.644351</td>\n      <td>None</td>\n      <td>52</td>\n      <td>0.687700</td>\n      <td>5</td>\n      <td>softmax</td>\n      <td>...</td>\n      <td>0.0</td>\n      <td>0.0</td>\n      <td>NaN</td>\n      <td>NaN</td>\n      <td>NaN</td>\n      <td>NaN</td>\n      <td>NaN</td>\n      <td>NaN</td>\n      <td>NaN</td>\n      <td>NaN</td>\n    </tr>\n    <tr>\n      <th>2</th>\n      <td>0.948894</td>\n      <td>0.805958</td>\n      <td>0.894204</td>\n      <td>0.983920</td>\n      <td>0.539749</td>\n      <td>None</td>\n      <td>37</td>\n      <td>0.153313</td>\n      <td>7</td>\n      <td>softmax</td>\n      <td>...</td>\n      <td>0.0</td>\n      <td>0.0</td>\n      <td>sigmoid</td>\n      <td>500.0</td>\n      <td>0.0</td>\n      <td>0.0</td>\n      <td>sigmoid</td>\n      <td>500.0</td>\n      <td>0.0</td>\n      <td>0.0</td>\n    </tr>\n    <tr>\n      <th>3</th>\n      <td>1.013342</td>\n      <td>0.800300</td>\n      <td>0.958067</td>\n      <td>0.940704</td>\n      <td>0.502128</td>\n      <td>None</td>\n      <td>10</td>\n      <td>0.243757</td>\n      <td>5</td>\n      <td>softmax</td>\n      <td>...</td>\n      <td>0.0</td>\n      <td>0.0</td>\n      <td>NaN</td>\n      <td>NaN</td>\n      <td>NaN</td>\n      <td>NaN</td>\n      <td>NaN</td>\n      <td>NaN</td>\n      <td>NaN</td>\n      <td>NaN</td>\n    </tr>\n    <tr>\n      <th>4</th>\n      <td>1.045582</td>\n      <td>0.879531</td>\n      <td>0.966820</td>\n      <td>0.968844</td>\n      <td>0.702929</td>\n      <td>None</td>\n      <td>47</td>\n      <td>0.432839</td>\n      <td>6</td>\n      <td>softmax</td>\n      <td>...</td>\n      <td>0.0</td>\n      <td>0.0</td>\n      <td>sigmoid</td>\n      <td>500.0</td>\n      <td>0.0</td>\n      <td>0.0</td>\n      <td>NaN</td>\n      <td>NaN</td>\n      <td>NaN</td>\n      <td>NaN</td>\n    </tr>\n  </tbody>\n</table>\n<p>5 rows × 48 columns</p>\n</div>"
     },
     "execution_count": 10,
     "metadata": {},
     "output_type": "execute_result"
    }
   ],
   "source": [
    "df.head()"
   ],
   "metadata": {
    "collapsed": false
   }
  },
  {
   "cell_type": "code",
   "execution_count": null,
   "outputs": [],
   "source": [],
   "metadata": {
    "collapsed": false
   }
  }
 ],
 "metadata": {
  "kernelspec": {
   "display_name": "Python 3",
   "language": "python",
   "name": "python3"
  },
  "language_info": {
   "codemirror_mode": {
    "name": "ipython",
    "version": 2
   },
   "file_extension": ".py",
   "mimetype": "text/x-python",
   "name": "python",
   "nbconvert_exporter": "python",
   "pygments_lexer": "ipython2",
   "version": "2.7.6"
  }
 },
 "nbformat": 4,
 "nbformat_minor": 0
}
